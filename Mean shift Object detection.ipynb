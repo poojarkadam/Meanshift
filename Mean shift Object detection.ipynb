{
 "cells": [
  {
   "cell_type": "code",
   "execution_count": 1,
   "id": "57ecd381",
   "metadata": {},
   "outputs": [],
   "source": [
    "import numpy as np\n",
    "import cv2"
   ]
  },
  {
   "cell_type": "code",
   "execution_count": 2,
   "id": "45db8fdc",
   "metadata": {},
   "outputs": [],
   "source": [
    "cap = cv2.VideoCapture('mean_shift.webm')"
   ]
  },
  {
   "cell_type": "code",
   "execution_count": 3,
   "id": "97b1093e",
   "metadata": {},
   "outputs": [],
   "source": [
    "ret, frame = cap.read()"
   ]
  },
  {
   "cell_type": "code",
   "execution_count": 4,
   "id": "a9a351e3",
   "metadata": {},
   "outputs": [],
   "source": [
    "x, y, width, height = 300, 200, 100, 50\n",
    "track_window = (x, y, width, height)"
   ]
  },
  {
   "cell_type": "code",
   "execution_count": 5,
   "id": "a335a209",
   "metadata": {},
   "outputs": [],
   "source": [
    "roi = frame[y:y + height, x:x + width]"
   ]
  },
  {
   "cell_type": "code",
   "execution_count": 6,
   "id": "14c95b60",
   "metadata": {},
   "outputs": [],
   "source": [
    "hsv = cv2.cvtColor(roi, cv2.COLOR_BGR2HSV)"
   ]
  },
  {
   "cell_type": "code",
   "execution_count": 7,
   "id": "6f4987fb",
   "metadata": {},
   "outputs": [],
   "source": [
    "# cv2.imshow('fd', hsv)\n",
    "#cv2.waitKey(0)"
   ]
  },
  {
   "cell_type": "code",
   "execution_count": 8,
   "id": "83d4685b",
   "metadata": {},
   "outputs": [],
   "source": [
    "mask = cv2.inRange(hsv, np.array((0., 61., 33.)), np.array((180., 255., 255.)))"
   ]
  },
  {
   "cell_type": "code",
   "execution_count": 9,
   "id": "08e61f04",
   "metadata": {},
   "outputs": [],
   "source": [
    "roi = cv2.calcHist([hsv], [0], mask, [180], [0, 180])"
   ]
  },
  {
   "cell_type": "code",
   "execution_count": 10,
   "id": "d3191459",
   "metadata": {},
   "outputs": [],
   "source": [
    "# cv2.imshow('fd', roi)\n",
    "# cv2.waitKey(0)"
   ]
  },
  {
   "cell_type": "code",
   "execution_count": 11,
   "id": "39b43af0",
   "metadata": {},
   "outputs": [
    {
     "data": {
      "text/plain": [
       "array([[  0.      ],\n",
       "       [  0.      ],\n",
       "       [  0.      ],\n",
       "       [  0.      ],\n",
       "       [  0.      ],\n",
       "       [  0.      ],\n",
       "       [  0.      ],\n",
       "       [  0.      ],\n",
       "       [  3.984375],\n",
       "       [  0.      ],\n",
       "       [ 37.1875  ],\n",
       "       [106.25    ],\n",
       "       [215.15625 ],\n",
       "       [255.      ],\n",
       "       [ 86.328125],\n",
       "       [ 14.609375],\n",
       "       [  0.      ],\n",
       "       [  0.      ],\n",
       "       [  0.      ],\n",
       "       [  0.      ],\n",
       "       [  0.      ],\n",
       "       [  0.      ],\n",
       "       [  0.      ],\n",
       "       [  0.      ],\n",
       "       [  0.      ],\n",
       "       [  0.      ],\n",
       "       [  0.      ],\n",
       "       [  0.      ],\n",
       "       [  0.      ],\n",
       "       [  0.      ],\n",
       "       [  0.      ],\n",
       "       [  0.      ],\n",
       "       [  0.      ],\n",
       "       [  0.      ],\n",
       "       [  0.      ],\n",
       "       [  0.      ],\n",
       "       [  0.      ],\n",
       "       [  0.      ],\n",
       "       [  0.      ],\n",
       "       [  0.      ],\n",
       "       [  0.      ],\n",
       "       [  0.      ],\n",
       "       [  0.      ],\n",
       "       [  0.      ],\n",
       "       [  0.      ],\n",
       "       [  0.      ],\n",
       "       [  0.      ],\n",
       "       [  0.      ],\n",
       "       [  0.      ],\n",
       "       [  0.      ],\n",
       "       [  0.      ],\n",
       "       [  0.      ],\n",
       "       [  0.      ],\n",
       "       [  0.      ],\n",
       "       [  0.      ],\n",
       "       [  0.      ],\n",
       "       [  0.      ],\n",
       "       [  0.      ],\n",
       "       [  0.      ],\n",
       "       [  0.      ],\n",
       "       [  0.      ],\n",
       "       [  0.      ],\n",
       "       [  0.      ],\n",
       "       [  0.      ],\n",
       "       [  0.      ],\n",
       "       [  0.      ],\n",
       "       [  0.      ],\n",
       "       [  0.      ],\n",
       "       [  0.      ],\n",
       "       [  0.      ],\n",
       "       [  0.      ],\n",
       "       [  0.      ],\n",
       "       [  0.      ],\n",
       "       [  0.      ],\n",
       "       [  0.      ],\n",
       "       [  0.      ],\n",
       "       [  0.      ],\n",
       "       [  0.      ],\n",
       "       [  0.      ],\n",
       "       [  0.      ],\n",
       "       [  0.      ],\n",
       "       [  0.      ],\n",
       "       [  0.      ],\n",
       "       [  0.      ],\n",
       "       [  0.      ],\n",
       "       [  0.      ],\n",
       "       [  0.      ],\n",
       "       [  0.      ],\n",
       "       [  0.      ],\n",
       "       [  0.      ],\n",
       "       [  0.      ],\n",
       "       [  0.      ],\n",
       "       [  0.      ],\n",
       "       [  0.      ],\n",
       "       [  0.      ],\n",
       "       [  0.      ],\n",
       "       [  0.      ],\n",
       "       [  0.      ],\n",
       "       [  0.      ],\n",
       "       [  0.      ],\n",
       "       [  0.      ],\n",
       "       [  0.      ],\n",
       "       [  0.      ],\n",
       "       [  0.      ],\n",
       "       [  0.      ],\n",
       "       [  0.      ],\n",
       "       [  0.      ],\n",
       "       [  0.      ],\n",
       "       [  0.      ],\n",
       "       [  0.      ],\n",
       "       [  0.      ],\n",
       "       [  0.      ],\n",
       "       [  0.      ],\n",
       "       [  0.      ],\n",
       "       [  0.      ],\n",
       "       [  0.      ],\n",
       "       [  0.      ],\n",
       "       [  0.      ],\n",
       "       [  0.      ],\n",
       "       [  0.      ],\n",
       "       [  0.      ],\n",
       "       [  0.      ],\n",
       "       [  0.      ],\n",
       "       [  0.      ],\n",
       "       [  0.      ],\n",
       "       [  0.      ],\n",
       "       [  0.      ],\n",
       "       [  0.      ],\n",
       "       [  0.      ],\n",
       "       [  0.      ],\n",
       "       [  0.      ],\n",
       "       [  0.      ],\n",
       "       [  0.      ],\n",
       "       [  0.      ],\n",
       "       [  0.      ],\n",
       "       [  0.      ],\n",
       "       [  0.      ],\n",
       "       [  0.      ],\n",
       "       [  0.      ],\n",
       "       [  0.      ],\n",
       "       [  0.      ],\n",
       "       [  0.      ],\n",
       "       [  0.      ],\n",
       "       [  0.      ],\n",
       "       [  0.      ],\n",
       "       [  0.      ],\n",
       "       [  0.      ],\n",
       "       [  0.      ],\n",
       "       [  0.      ],\n",
       "       [  0.      ],\n",
       "       [  0.      ],\n",
       "       [  0.      ],\n",
       "       [  0.      ],\n",
       "       [  0.      ],\n",
       "       [  0.      ],\n",
       "       [  0.      ],\n",
       "       [  0.      ],\n",
       "       [  0.      ],\n",
       "       [  0.      ],\n",
       "       [  0.      ],\n",
       "       [  0.      ],\n",
       "       [  0.      ],\n",
       "       [  0.      ],\n",
       "       [  0.      ],\n",
       "       [  0.      ],\n",
       "       [  0.      ],\n",
       "       [  0.      ],\n",
       "       [  0.      ],\n",
       "       [  0.      ],\n",
       "       [  0.      ],\n",
       "       [  0.      ],\n",
       "       [  0.      ],\n",
       "       [  0.      ],\n",
       "       [  0.      ],\n",
       "       [  0.      ],\n",
       "       [  0.      ],\n",
       "       [  0.      ],\n",
       "       [  0.      ],\n",
       "       [  0.      ],\n",
       "       [  0.      ]], dtype=float32)"
      ]
     },
     "execution_count": 11,
     "metadata": {},
     "output_type": "execute_result"
    }
   ],
   "source": [
    "cv2.normalize(roi, roi, 0, 255, cv2.NORM_MINMAX)"
   ]
  },
  {
   "cell_type": "code",
   "execution_count": 12,
   "id": "b43c20e1",
   "metadata": {},
   "outputs": [],
   "source": [
    "termination = (cv2.TERM_CRITERIA_EPS | cv2.TERM_CRITERIA_COUNT, 10, 1 )"
   ]
  },
  {
   "cell_type": "code",
   "execution_count": 13,
   "id": "501d4732",
   "metadata": {},
   "outputs": [],
   "source": [
    "while(True):\n",
    "    ret, frame = cap.read()\n",
    "    if ret == True:\n",
    "        hsv = cv2.cvtColor(frame, cv2.COLOR_BGR2HSV)\n",
    "        bp = cv2.calcBackProject([hsv], [0], roi, [0, 180], 1)\n",
    "\n",
    "        ret, track_window = cv2.meanShift(bp, track_window, termination)\n",
    "        x, y, width, height = track_window\n",
    "\n",
    "        final_image = cv2.rectangle(frame, (x, y), (x + width, y + height), 255, 2)\n",
    "        cv2.imshow('tracker', final_image)\n",
    "\n",
    "        k = cv2.waitKey(1) & 0xff\n",
    "        if k == ord('q'):\n",
    "            break\n",
    "    else:\n",
    "        break\n",
    "cap.release()\n",
    "cv2.destroyAllWindows()"
   ]
  },
  {
   "cell_type": "code",
   "execution_count": null,
   "id": "05fad20e",
   "metadata": {},
   "outputs": [],
   "source": []
  },
  {
   "cell_type": "code",
   "execution_count": null,
   "id": "9ad67396",
   "metadata": {},
   "outputs": [],
   "source": []
  },
  {
   "cell_type": "code",
   "execution_count": null,
   "id": "68056c3e",
   "metadata": {},
   "outputs": [],
   "source": []
  }
 ],
 "metadata": {
  "kernelspec": {
   "display_name": "Python 3",
   "language": "python",
   "name": "python3"
  },
  "language_info": {
   "codemirror_mode": {
    "name": "ipython",
    "version": 3
   },
   "file_extension": ".py",
   "mimetype": "text/x-python",
   "name": "python",
   "nbconvert_exporter": "python",
   "pygments_lexer": "ipython3",
   "version": "3.8.8"
  }
 },
 "nbformat": 4,
 "nbformat_minor": 5
}
